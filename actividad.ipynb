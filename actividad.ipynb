{
 "cells": [
  {
   "cell_type": "markdown",
   "id": "498731c6",
   "metadata": {},
   "source": [
    "# Actividad - Trabajando con Series de Pandas.\n",
    "## Criterios de evaluación.\n",
    "\n",
    "* Se deben utilizar nombres de variables descriptivos y claros (Utilizar la nomeclatura correspondiente para los nombres de variables).\n",
    "* Comentarios claros y concisos que expliquen el propósito de cada sección del código.\n",
    "* Utilizar mensajes de commit **descriptivos**. (Puedes utilizar la extension CONVENTIONAL COMMIT de VS-CODE). \n",
    "* Entrega en tiempo y forma.\n",
    "* Todo el código desarrollado debe ser subido a un repositorio en GitHub (el nombre del repositorio de seguir la siguiente estructura: actividad_tlp3_nombre_apellido).\n",
    "* Para resolver las actividades se debe insertar casillas de codigo entre cada actividad del cuaderno de Jupyter\n",
    "\n",
    "### ¡Importante!\n",
    "**El incumplimiento de los criterios de evaluación restará puntos en la nota final del práctico!**"
   ]
  },
  {
   "cell_type": "markdown",
   "id": "b361a7b6",
   "metadata": {},
   "source": [
    "### **Actividad 1:** \n",
    "\n",
    "Crear Series desde diferentes estructuras.\n",
    "* Crea una Series con los números del 1 al 5\n",
    "* Crea una Series a partir de un diccionario con nombres de países como claves y sus capitales como valores."
   ]
  },
  {
   "cell_type": "code",
   "execution_count": 27,
   "id": "26009294",
   "metadata": {},
   "outputs": [
    {
     "name": "stdout",
     "output_type": "stream",
     "text": [
      "0    1\n",
      "1    2\n",
      "2    3\n",
      "3    4\n",
      "4    5\n",
      "dtype: int64\n"
     ]
    }
   ],
   "source": [
    "# Actividad 1:\n",
    "import pandas as pd\n",
    "#serie de 5 números utilizando la función arange\n",
    "nueva_serie=pd.Series(range(1,6))\n",
    "print(nueva_serie)"
   ]
  },
  {
   "cell_type": "code",
   "execution_count": null,
   "id": "8a91bf20",
   "metadata": {},
   "outputs": [
    {
     "name": "stdout",
     "output_type": "stream",
     "text": [
      "Argentina    Buenos Aires\n",
      "Brasil           Brasilia\n",
      "Chile            Santiago\n",
      "España             Madrid\n",
      "Francia             París\n",
      "dtype: object\n"
     ]
    }
   ],
   "source": [
    "# se crearon dos listas con los países y sus capitales\n",
    "paises = [\"Argentina\", \"Brasil\", \"Chile\", \"España\", \"Francia\", \"Italia\", \"México\", \"Alemania\", \"Japón\", \"Canadá\"]\n",
    "capitales = [\"Buenos Aires\", \"Brasilia\", \"Santiago\", \"Madrid\", \"París\", \"Roma\", \"Ciudad de México\", \"Berlín\", \"Tokio\", \"Ottawa\"]\n",
    "\n",
    "# se hizo una serie y se designaron las claves y valores correspondientes\n",
    "serie_capitales=pd.Series(capitales,index=paises)\n",
    "print(serie_capitales.head(5))"
   ]
  },
  {
   "cell_type": "markdown",
   "id": "0c239195",
   "metadata": {},
   "source": [
    "### **Actividad 2:** \n",
    "Acceso y selección de elementos.\n",
    "* Usa una Series con tareas (que haceres cotidianos) de una semana\n",
    "* Accede a diferentes elementos a elección.\n",
    "* Cambia los valores de los dias pares.\n"
   ]
  },
  {
   "cell_type": "code",
   "execution_count": null,
   "id": "3611d25a",
   "metadata": {},
   "outputs": [
    {
     "name": "stdout",
     "output_type": "stream",
     "text": [
      "Lunes             Limpiar el baño\n",
      "Martes                 lavar ropa\n",
      "Miércoles         barrer el patio\n",
      "Jueves              Lavar el auto\n",
      "Viernes          limpiar el patio\n",
      "Sábado       Bañar a los animales\n",
      "Domingo          Lavar los platos\n",
      "dtype: object\n",
      "\n",
      "\n",
      "Primer elemento de la serie \n",
      " Limpiar el baño\n",
      "\n",
      "\n",
      "Lunes         Limpiar el baño\n",
      "Martes        Día de descanso\n",
      "Miércoles     barrer el patio\n",
      "Jueves        Día de descanso\n",
      "Viernes      limpiar el patio\n",
      "Sábado        Día de descanso\n",
      "Domingo      Lavar los platos\n",
      "dtype: object\n"
     ]
    }
   ],
   "source": [
    "# Actividad 2:\n",
    "\n",
    "# listas de los quehaceres de la semana\n",
    "quehaceres = [\n",
    "    \"Limpiar el baño\",\n",
    "    \"lavar ropa\",\n",
    "    \"barrer el patio\",\n",
    "    \"Lavar el auto\",\n",
    "    \"limpiar el patio\", \n",
    "    \"Bañar a los animales\",\n",
    "    \"Lavar los platos\"\n",
    "    ]\n",
    "\n",
    "horarios = [\n",
    "    \"Lunes\",\n",
    "    \"Martes\",\n",
    "    \"Miércoles\",\n",
    "    \"Jueves\",\n",
    "    \"Viernes\",\n",
    "    \"Sábado\",\n",
    "    \"Domingo\",\n",
    "    ]\n",
    "\n",
    "# convertir las listas en una serie\n",
    "serie_quehaceres = pd.Series(quehaceres, index=horarios)\n",
    "print(serie_quehaceres)\n",
    "\n",
    "# acceder al primer elemento de la serie\n",
    "tarea_un_dia = serie_quehaceres[\"Lunes\"]\n",
    "print(\"\\n\")\n",
    "print(f\"Primer elemento de la serie \\n {tarea_un_dia}\")\n",
    "\n",
    "# Dejo comentado este bloque de código, es solo una forma distinta de acceder a un rango de elementos de la serie\n",
    "# el código sí funciona.\n",
    "# acceder a 4 elementos de la serie\n",
    "\n",
    "# tarea_por_dia = serie_quehaceres[\"Martes\":\"Viernes\"]\n",
    "# print(\"\\n\")\n",
    "# print(f\"Varios elementos de la serie \\n {tarea_por_dia}\")\n",
    "\n",
    "\n",
    "# modificar el contenido de los días pares\n",
    "print(\"\\n\")\n",
    "dias_pares = horarios[1::2]  #con [1::2] estamos diciendo \"accede al primer elemento y avanza de dos en dos\"\n",
    "\n",
    "# bucle for para modificar los días pares\n",
    "for dia in dias_pares:\n",
    "    serie_quehaceres[dia] = \"Día de descanso\"\n",
    "print(serie_quehaceres)\n"
   ]
  },
  {
   "cell_type": "markdown",
   "id": "70a24b97",
   "metadata": {},
   "source": [
    "### **Actividad 3:**\n",
    "Operaciones aritméticas. \n",
    "* Realiza las operaciones basicas con 2 series cuales quieran.\n",
    "* Eleva los valores de la primer serie a 3 potencias difetentes."
   ]
  },
  {
   "cell_type": "code",
   "execution_count": null,
   "id": "a9c8ebc7",
   "metadata": {},
   "outputs": [],
   "source": [
    "\n",
    "# todo:"
   ]
  },
  {
   "cell_type": "markdown",
   "id": "b8dac397",
   "metadata": {},
   "source": [
    "### **Actividad 4:** \n",
    "Filtrado con condiciones.\n",
    "* Crea una Series de edades de 10 personas.\n",
    "* Muestra solo a los mayores de 18.\n",
    "* Reemplaza a los menores por \"Menor de edad\"."
   ]
  },
  {
   "cell_type": "code",
   "execution_count": null,
   "id": "d04fd492",
   "metadata": {},
   "outputs": [],
   "source": [
    "\n",
    "# todo:"
   ]
  },
  {
   "cell_type": "markdown",
   "id": "8889d0f2",
   "metadata": {},
   "source": [
    "### Actividad 5:\n",
    "Estadísticas básicas.\n",
    "\n",
    "* Crea una Series con las notas de 10 estudiantes.\n",
    "* Calcula la media, mediana, desviación estándar y máximo.\n",
    "* Muestra cuántos estudiantes aprobaron si el mínimo para aprobar es 6.\n",
    "* Ordenar las notas de manera ascendente y descendente. "
   ]
  },
  {
   "cell_type": "code",
   "execution_count": null,
   "id": "bc0ec844",
   "metadata": {},
   "outputs": [],
   "source": [
    "\n",
    "# todo:\n"
   ]
  }
 ],
 "metadata": {
  "kernelspec": {
   "display_name": "env",
   "language": "python",
   "name": "python3"
  },
  "language_info": {
   "codemirror_mode": {
    "name": "ipython",
    "version": 3
   },
   "file_extension": ".py",
   "mimetype": "text/x-python",
   "name": "python",
   "nbconvert_exporter": "python",
   "pygments_lexer": "ipython3",
   "version": "3.13.1"
  }
 },
 "nbformat": 4,
 "nbformat_minor": 5
}
